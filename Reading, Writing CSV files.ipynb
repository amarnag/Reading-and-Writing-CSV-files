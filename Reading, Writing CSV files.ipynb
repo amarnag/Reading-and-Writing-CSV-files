{
 "cells": [
  {
   "cell_type": "markdown",
   "id": "08bf642c",
   "metadata": {},
   "source": [
    "Example of reading from a CSV file and writing each row as a list."
   ]
  },
  {
   "cell_type": "code",
   "execution_count": 1,
   "id": "f9ae312f",
   "metadata": {},
   "outputs": [],
   "source": [
    "import csv\n",
    "\n",
    "def read_csv_file(filename):\n",
    "    f = open(filename)\n",
    "    for row in csv.reader(f):\n",
    "        print(row)\n",
    "    f.close()"
   ]
  },
  {
   "cell_type": "code",
   "execution_count": 3,
   "id": "f51298ab",
   "metadata": {},
   "outputs": [
    {
     "name": "stdout",
     "output_type": "stream",
     "text": [
      "['george', '836-6025']\n",
      "['jackson', '837-6501']\n",
      "['emma', '617-4378']\n",
      "['sophia', '539-8147']\n",
      "['aiden', '213-4567']\n",
      "['olivia', '782-3737']\n",
      "['liam', '347-9038']\n"
     ]
    }
   ],
   "source": [
    "read_csv_file(\"phones.csv\")"
   ]
  },
  {
   "cell_type": "code",
   "execution_count": 4,
   "id": "25e1bba2",
   "metadata": {},
   "outputs": [
    {
     "name": "stdout",
     "output_type": "stream",
     "text": [
      "['Beckert, Sven', 'Empire of Cotton', 'history']\n",
      "['Buckley, Carla', 'The Deepest Secret', 'mystery']\n",
      "['Carcaterra, Lorenzo', 'Chasers', 'mystery']\n",
      "['Catton, Bruce', 'The Army of the Potomac: The Glory Road', 'military']\n",
      "['Cohen, Gabriel', 'The Ninth Step', 'mystery']\n",
      "['Darwin, Charles', 'Origin of Species', 'science']\n",
      "['Ho, Yong', 'China: An Illustrated History', 'history']\n",
      "['James, Henry', 'Daisy Miller', 'novel']\n",
      "['Larsson, Stieg', 'The Girl who played with fire', 'novel']\n",
      "['Lewis, Michael', \"Liar's Poker: rising through the wreckage on Wall Street\", 'economics']\n",
      "['Messenger, Bill', 'Elements of Jazz: From Cakewalks to Fusion', 'music']\n",
      "['Paulos, John Allen', 'Innumeracy', 'mathematics']\n",
      "['Penzler, Otto, ed.', 'Murder at the Racetrack ', 'mystery']\n",
      "['Pintoff, Stefanie', 'Secret of the White Rose', 'mystery']\n",
      "['Post, Robert C.', 'Democracy, Expertise, Academic Freedom', 'law']\n",
      "['Solzhenitsyn, Alexander', 'One Day in the Life of Ivan Denisovich', 'novel']\n",
      "['Torrence, Bruce F. and Eve A.', \"The Student's Introduction to Mathematica\", 'mathematics']\n",
      "['Woods, Stewart', 'Mounting Fears', 'novel']\n"
     ]
    }
   ],
   "source": [
    "read_csv_file('BooksRead.csv')"
   ]
  },
  {
   "cell_type": "code",
   "execution_count": 5,
   "id": "07ad1e5a",
   "metadata": {},
   "outputs": [
    {
     "name": "stdout",
     "output_type": "stream",
     "text": [
      "['petunia', '5.95']\n",
      "['alyssum', '3.95']\n",
      "['begonia', '5.95']\n",
      "['sunflower', '5.95']\n",
      "['coelius', '4.95']\n"
     ]
    }
   ],
   "source": [
    "read_csv_file(\"flowers.csv\")"
   ]
  },
  {
   "cell_type": "code",
   "execution_count": 6,
   "id": "3d43c040",
   "metadata": {},
   "outputs": [
    {
     "name": "stdout",
     "output_type": "stream",
     "text": [
      "['Monday', 'ham', 'biscuits', 'corn', 'spinach', 'apple pie']\n",
      "['Tuesday', 'steak', 'rolls', 'yams', 'beets', 'crème brulee']\n",
      "['Wednesday', 'fried chicken', 'biscuits', 'mashed potatoes', 'cole slaw', 'vanilla ice cream']\n",
      "['Thursday', 'clam rolls', 'tartar sauce', 'french fries', 'ice tea', 'chocolate ice cream']\n",
      "['Friday', 'meat loaf', 'biscuits', 'lima beans', 'garden salad', 'chocolate cake']\n"
     ]
    }
   ],
   "source": [
    "read_csv_file(\"menu.csv\")"
   ]
  },
  {
   "cell_type": "code",
   "execution_count": 7,
   "id": "04e4cd54",
   "metadata": {},
   "outputs": [
    {
     "name": "stdout",
     "output_type": "stream",
     "text": [
      "['Date', 'Weight']\n",
      "['5/1/2016', '142']\n",
      "['5/2/2016', '143']\n",
      "['5/3/2016', '140']\n",
      "['5/4/2016', '141']\n",
      "['5/5/2016', '142']\n",
      "['5/6/2016', '141']\n",
      "['5/7/2016', '143']\n"
     ]
    }
   ],
   "source": [
    "read_csv_file(\"weights.csv\")"
   ]
  },
  {
   "cell_type": "markdown",
   "id": "76a6e37e",
   "metadata": {},
   "source": [
    "Example of reading from a CSV file and appending to a list."
   ]
  },
  {
   "cell_type": "code",
   "execution_count": 9,
   "id": "6b0c4dea",
   "metadata": {},
   "outputs": [],
   "source": [
    "def read_csv_file1(filename):\n",
    "    f = open(filename)\n",
    "    data = []\n",
    "    for row in csv.reader(f):\n",
    "        data.append(row)\n",
    "    print(data)"
   ]
  },
  {
   "cell_type": "code",
   "execution_count": 10,
   "id": "88c7d20e",
   "metadata": {},
   "outputs": [
    {
     "name": "stdout",
     "output_type": "stream",
     "text": [
      "[['Monday', 'ham', 'biscuits', 'corn', 'spinach', 'apple pie'], ['Tuesday', 'steak', 'rolls', 'yams', 'beets', 'crème brulee'], ['Wednesday', 'fried chicken', 'biscuits', 'mashed potatoes', 'cole slaw', 'vanilla ice cream'], ['Thursday', 'clam rolls', 'tartar sauce', 'french fries', 'ice tea', 'chocolate ice cream'], ['Friday', 'meat loaf', 'biscuits', 'lima beans', 'garden salad', 'chocolate cake']]\n"
     ]
    }
   ],
   "source": [
    "read_csv_file1(\"menu.csv\")"
   ]
  },
  {
   "cell_type": "code",
   "execution_count": 11,
   "id": "be15d595",
   "metadata": {},
   "outputs": [
    {
     "name": "stdout",
     "output_type": "stream",
     "text": [
      "[['george', '836-6025'], ['jackson', '837-6501'], ['emma', '617-4378'], ['sophia', '539-8147'], ['aiden', '213-4567'], ['olivia', '782-3737'], ['liam', '347-9038']]\n"
     ]
    }
   ],
   "source": [
    "read_csv_file1('phones.csv')"
   ]
  },
  {
   "cell_type": "markdown",
   "id": "c0b7c21a",
   "metadata": {},
   "source": [
    "#### Exercise:\n",
    "Rewrite read_csv_file(filename), call it read_csv_file2(filename), so that you \n",
    "print each row without the list bracket. You will print each item in the row \n",
    "separately instead of printing the whole row. This requires you to know \n",
    "before-hand how many columns are in the csv file. In the case of booksread.csv, \n",
    "there are 3 items in each row: How do you address each item in the row list\n",
    "named row? They are row[?] and row[??] and row[???], where you fill in the \n",
    "?, ??, and ??? values. "
   ]
  },
  {
   "cell_type": "code",
   "execution_count": 19,
   "id": "23da9828",
   "metadata": {},
   "outputs": [],
   "source": [
    "def read_csv_file2(filename):\n",
    "    f = open(filename)\n",
    "    for row in csv.reader(f):\n",
    "        print(row[0], \" \", row[1])\n",
    "    f.close()"
   ]
  },
  {
   "cell_type": "code",
   "execution_count": 20,
   "id": "7c6c9710",
   "metadata": {},
   "outputs": [
    {
     "name": "stdout",
     "output_type": "stream",
     "text": [
      "george   836-6025\n",
      "jackson   837-6501\n",
      "emma   617-4378\n",
      "sophia   539-8147\n",
      "aiden   213-4567\n",
      "olivia   782-3737\n",
      "liam   347-9038\n"
     ]
    }
   ],
   "source": [
    "read_csv_file2('phones.csv')"
   ]
  },
  {
   "cell_type": "code",
   "execution_count": 21,
   "id": "9223266f",
   "metadata": {},
   "outputs": [
    {
     "name": "stdout",
     "output_type": "stream",
     "text": [
      "Beckert, Sven   Empire of Cotton\n",
      "Buckley, Carla   The Deepest Secret\n",
      "Carcaterra, Lorenzo   Chasers\n",
      "Catton, Bruce   The Army of the Potomac: The Glory Road\n",
      "Cohen, Gabriel   The Ninth Step\n",
      "Darwin, Charles   Origin of Species\n",
      "Ho, Yong   China: An Illustrated History\n",
      "James, Henry   Daisy Miller\n",
      "Larsson, Stieg   The Girl who played with fire\n",
      "Lewis, Michael   Liar's Poker: rising through the wreckage on Wall Street\n",
      "Messenger, Bill   Elements of Jazz: From Cakewalks to Fusion\n",
      "Paulos, John Allen   Innumeracy\n",
      "Penzler, Otto, ed.   Murder at the Racetrack \n",
      "Pintoff, Stefanie   Secret of the White Rose\n",
      "Post, Robert C.   Democracy, Expertise, Academic Freedom\n",
      "Solzhenitsyn, Alexander   One Day in the Life of Ivan Denisovich\n",
      "Torrence, Bruce F. and Eve A.   The Student's Introduction to Mathematica\n",
      "Woods, Stewart   Mounting Fears\n"
     ]
    }
   ],
   "source": [
    "read_csv_file2('BooksRead.csv')"
   ]
  },
  {
   "cell_type": "markdown",
   "id": "6b04b0a4",
   "metadata": {},
   "source": [
    "Example of writing to a CSV file from a list looping and writing one\n",
    "row at a time. newline='' keeps csv file from writing a newline at the end of\n",
    "each line. This keeps the file from being double spaced."
   ]
  },
  {
   "cell_type": "code",
   "execution_count": 40,
   "id": "ac0cb208",
   "metadata": {},
   "outputs": [],
   "source": [
    "def write_csv(filename):\n",
    "   \n",
    "    L = [['Date', 'Name', 'Notes'], \n",
    "         ['2016/1/18', 'Martin Luther King Day', 'Federal Holiday'],\n",
    "         ['2016/2/2','Groundhog Day', 'Observance'], \n",
    "         ['2016/2/8','Chinese New Year', 'Observance'], \n",
    "         ['2016/2/14','Valentine\\'s Day', 'Obervance'], \n",
    "         ['2016/5/8','Mother\\'s Day', 'Observance'], \n",
    "         ['2016/8/19','Statehood Day', 'Hawaii Holiday'], \n",
    "         ['2016/10/28','Nevada Day', 'Nevada Holiday']]\n",
    "    \n",
    "    f = open(filename, 'w', newline='')\n",
    "    for item in L:\n",
    "        csv.writer(f).writerow(item)\n",
    "    f.close()"
   ]
  },
  {
   "cell_type": "code",
   "execution_count": 43,
   "id": "61f791e3",
   "metadata": {},
   "outputs": [],
   "source": [
    "write_csv(\"person.csv\")"
   ]
  },
  {
   "cell_type": "markdown",
   "id": "4ed3cead",
   "metadata": {},
   "source": [
    "#### Exercise:\n",
    "\n",
    "This is a modification of write_csv(filename). Instead of getting the data from a list, we're going to input it from the keyboard. This new function name_phone(csv_filename) will put a friend's name and his/her phone number into a csv file. Here is a start. We are going to add features to the program so that each step is manageable and we don't get confused.\n",
    "\n",
    "1. Run this program and see that you can enter names and they'll print. To exit, you enter a blank name (i.e., just press return or enter). Note the loop runs forever, so we have to use 'break' to get out.\n",
    "2. Add an input statement to collect a phone number and a line to print the phone number. Carefully place these so that the program runs nicely; that is, don't print anything until you have the phone number and don't get the phone number until you know the user isn't quiting. \n",
    "3. Now add writing to a CSV file. After each step you can try running the function to make sure everything works. We're \"growing\" the program making sure that we have a working program each step of the way. You can check the work by double clicking on the created file and using Excel to peek into it. In the following be careful to put the right statements inside the loop and the others outside the loop.\n",
    "First add any necessary import statements.\n",
    " - Add a line opening the csv file for writing and a line closing the file. \n",
    " - As each line written to the CSV file must be a list, create an empty list like this: line = []. Note this should be inside the loop. Why?\n",
    " - append the name to line; append the phone to line\n",
    " - write the line to the CSV file"
   ]
  },
  {
   "cell_type": "code",
   "execution_count": 46,
   "id": "ffbe2861",
   "metadata": {},
   "outputs": [],
   "source": [
    "def write_csv(filename):\n",
    "    csv_file = open(filename, 'w', newline = '')\n",
    "    while True:\n",
    "        nextname = input(\"Enter a friend's name, press return to end: \")\n",
    "        if nextname == \"\":\n",
    "            break\n",
    "        nextphone = input(\"Enter a friend's phone number\")\n",
    "        print(nextname)\n",
    "        print(nextphone)\n",
    "        line = []\n",
    "        line.append(nextname)\n",
    "        line.append(nextphone)\n",
    "        csv.writer(csv_file).writerow(line)\n",
    "    csv_file.close()"
   ]
  },
  {
   "cell_type": "code",
   "execution_count": 47,
   "id": "2a625952",
   "metadata": {},
   "outputs": [
    {
     "name": "stdout",
     "output_type": "stream",
     "text": [
      "Enter a friend's name, press return to end: Akash\n",
      "Enter a friend's phone number9705026070\n",
      "Akash\n",
      "9705026070\n",
      "Enter a friend's name, press return to end: Vani\n",
      "Enter a friend's phone number8247704761\n",
      "Vani\n",
      "8247704761\n",
      "Enter a friend's name, press return to end: Amma\n",
      "Enter a friend's phone number9492285630\n",
      "Amma\n",
      "9492285630\n",
      "Enter a friend's name, press return to end: \"\n",
      "Enter a friend's phone number\"\"\n",
      "\"\n",
      "\"\"\n",
      "Enter a friend's name, press return to end: \n"
     ]
    }
   ],
   "source": [
    "write_csv(\"myphone.csv\")"
   ]
  }
 ],
 "metadata": {
  "kernelspec": {
   "display_name": "Python 3 (ipykernel)",
   "language": "python",
   "name": "python3"
  },
  "language_info": {
   "codemirror_mode": {
    "name": "ipython",
    "version": 3
   },
   "file_extension": ".py",
   "mimetype": "text/x-python",
   "name": "python",
   "nbconvert_exporter": "python",
   "pygments_lexer": "ipython3",
   "version": "3.9.7"
  }
 },
 "nbformat": 4,
 "nbformat_minor": 5
}
